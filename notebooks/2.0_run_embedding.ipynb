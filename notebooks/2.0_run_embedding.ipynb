{
 "cells": [
  {
   "cell_type": "markdown",
   "id": "a8d02867",
   "metadata": {},
   "source": [
    "# Import"
   ]
  },
  {
   "cell_type": "code",
   "execution_count": null,
   "id": "fe7426ae",
   "metadata": {},
   "outputs": [],
   "source": [
    "import sys\n",
    "import os\n",
    "import pandas as pd"
   ]
  },
  {
   "cell_type": "code",
   "execution_count": 2,
   "id": "7eaf7221",
   "metadata": {},
   "outputs": [],
   "source": [
    "project_root = os.path.abspath(os.path.join(os.getcwd(), \"../\"))\n",
    "if project_root not in sys.path:\n",
    "    sys.path.append(project_root)\n",
    "from src.embedding.chunking import TextChunker\n",
    "from src.embedding.embedder import Embedder\n",
    "from src.embedding.vector_store import VectorStoreManager"
   ]
  },
  {
   "cell_type": "markdown",
   "id": "856922c3",
   "metadata": {},
   "source": [
    "# Load cleaned complaints"
   ]
  },
  {
   "cell_type": "code",
   "execution_count": 3,
   "id": "8d418d42",
   "metadata": {},
   "outputs": [],
   "source": [
    "df = pd.read_csv(\"../data/processed/filtered_complaints.csv\")"
   ]
  },
  {
   "cell_type": "markdown",
   "id": "414b5ccd",
   "metadata": {},
   "source": [
    "# Add Complaint ID for metadata traceability"
   ]
  },
  {
   "cell_type": "code",
   "execution_count": 4,
   "id": "705e743b",
   "metadata": {},
   "outputs": [],
   "source": [
    "df[\"ComplaintID\"] = df.index"
   ]
  },
  {
   "cell_type": "markdown",
   "id": "34670bb9",
   "metadata": {},
   "source": [
    "# Initialize"
   ]
  },
  {
   "cell_type": "code",
   "execution_count": 5,
   "id": "a86ea681",
   "metadata": {},
   "outputs": [],
   "source": [
    "chunker = TextChunker(chunk_size=256, chunk_overlap=32)\n",
    "embedder = Embedder()"
   ]
  },
  {
   "cell_type": "markdown",
   "id": "747771e1",
   "metadata": {},
   "source": [
    "# Collect all chunks and aligned metadata"
   ]
  },
  {
   "cell_type": "code",
   "execution_count": 6,
   "id": "cdf2f79c",
   "metadata": {},
   "outputs": [],
   "source": [
    "all_chunks = []\n",
    "metadata = []\n",
    "\n",
    "for _, row in df.iterrows():\n",
    "    # Chunk the cleaned narrative\n",
    "    text_chunks = chunker.chunk_texts([row[\"Cleaned Narrative\"]])\n",
    "    \n",
    "    for chunk in text_chunks:\n",
    "        all_chunks.append(chunk)\n",
    "        metadata.append({\n",
    "            \"complaint_id\": row[\"ComplaintID\"],\n",
    "            \"product\": row[\"Product\"],\n",
    "            \"text\": chunk\n",
    "        })"
   ]
  },
  {
   "cell_type": "markdown",
   "id": "8c1efe44",
   "metadata": {},
   "source": [
    "# Embed all chunks"
   ]
  },
  {
   "cell_type": "code",
   "execution_count": 7,
   "id": "97fd74d0",
   "metadata": {},
   "outputs": [
    {
     "data": {
      "application/vnd.jupyter.widget-view+json": {
       "model_id": "9c5f8952fdfb485fae77c46a6a9cb0f5",
       "version_major": 2,
       "version_minor": 0
      },
      "text/plain": [
       "Batches:   0%|          | 0/13340 [00:00<?, ?it/s]"
      ]
     },
     "metadata": {},
     "output_type": "display_data"
    }
   ],
   "source": [
    "embeddings = embedder.embed_texts(all_chunks)"
   ]
  },
  {
   "cell_type": "markdown",
   "id": "7ce92541",
   "metadata": {},
   "source": [
    "# Save to vector store"
   ]
  },
  {
   "cell_type": "code",
   "execution_count": 8,
   "id": "b4f2e79a",
   "metadata": {},
   "outputs": [
    {
     "name": "stdout",
     "output_type": "stream",
     "text": [
      " Vector index and metadata saved.\n"
     ]
    }
   ],
   "source": [
    "store = VectorStoreManager(dim=embeddings.shape[1])\n",
    "store.add_embeddings(embeddings, metadata)\n",
    "store.save()\n",
    "\n",
    "print(\" Vector index and metadata saved.\")"
   ]
  }
 ],
 "metadata": {
  "kernelspec": {
   "display_name": "venv",
   "language": "python",
   "name": "python3"
  },
  "language_info": {
   "codemirror_mode": {
    "name": "ipython",
    "version": 3
   },
   "file_extension": ".py",
   "mimetype": "text/x-python",
   "name": "python",
   "nbconvert_exporter": "python",
   "pygments_lexer": "ipython3",
   "version": "3.12.3"
  }
 },
 "nbformat": 4,
 "nbformat_minor": 5
}
