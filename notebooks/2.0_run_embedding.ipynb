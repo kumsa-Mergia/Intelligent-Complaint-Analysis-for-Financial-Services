{
 "cells": [
  {
   "cell_type": "markdown",
   "id": "a8d02867",
   "metadata": {},
   "source": [
    "# Import"
   ]
  },
  {
   "cell_type": "code",
   "execution_count": 1,
   "id": "fe7426ae",
   "metadata": {},
   "outputs": [],
   "source": [
    "import sys\n",
    "import os\n",
    "import pandas as pd"
   ]
  },
  {
   "cell_type": "code",
   "execution_count": 2,
   "id": "7eaf7221",
   "metadata": {},
   "outputs": [],
   "source": [
    "project_root = os.path.abspath(os.path.join(os.getcwd(), \"../\"))\n",
    "if project_root not in sys.path:\n",
    "    sys.path.append(project_root)\n",
    "from src.embedding.chunking import TextChunker\n",
    "from src.embedding.embedder import Embedder\n",
    "from src.embedding.vector_store import VectorStoreManager"
   ]
  },
  {
   "cell_type": "markdown",
   "id": "856922c3",
   "metadata": {},
   "source": [
    "# Load cleaned complaints"
   ]
  },
  {
   "cell_type": "code",
   "execution_count": 3,
   "id": "8d418d42",
   "metadata": {},
   "outputs": [],
   "source": [
    "df = pd.read_csv(\"../data/processed/filtered_complaints.csv\")"
   ]
  },
  {
   "cell_type": "markdown",
   "id": "414b5ccd",
   "metadata": {},
   "source": [
    "# Add Complaint ID for metadata traceability"
   ]
  },
  {
   "cell_type": "code",
   "execution_count": 4,
   "id": "705e743b",
   "metadata": {},
   "outputs": [],
   "source": [
    "df[\"ComplaintID\"] = df.index"
   ]
  },
  {
   "cell_type": "markdown",
   "id": "34670bb9",
   "metadata": {},
   "source": [
    "# Chunk the narratives"
   ]
  },
  {
   "cell_type": "code",
   "execution_count": 5,
   "id": "a86ea681",
   "metadata": {},
   "outputs": [],
   "source": [
    "chunker = TextChunker(chunk_size=256, chunk_overlap=32)\n",
    "chunks = chunker.chunk_texts(df[\"Cleaned Narrative\"].tolist())"
   ]
  },
  {
   "cell_type": "markdown",
   "id": "22829303",
   "metadata": {},
   "source": [
    "# Prepare metadata for each chunk (ID + product)"
   ]
  },
  {
   "cell_type": "code",
   "execution_count": 6,
   "id": "d1295d2c",
   "metadata": {},
   "outputs": [],
   "source": [
    "metadata = []\n",
    "for i, row in df.iterrows():\n",
    "    text_chunks = chunker.splitter.split_text(row[\"Cleaned Narrative\"])\n",
    "    for chunk in text_chunks:\n",
    "        metadata.append({\n",
    "            \"complaint_id\": row[\"ComplaintID\"],\n",
    "            \"product\": row[\"Product\"]\n",
    "        })"
   ]
  },
  {
   "cell_type": "markdown",
   "id": "8c1efe44",
   "metadata": {},
   "source": [
    "# Embed the chunks"
   ]
  },
  {
   "cell_type": "code",
   "execution_count": 7,
   "id": "97fd74d0",
   "metadata": {},
   "outputs": [
    {
     "data": {
      "application/vnd.jupyter.widget-view+json": {
       "model_id": "8c11f97adb3a4bb7a39c21b3a7cfeddf",
       "version_major": 2,
       "version_minor": 0
      },
      "text/plain": [
       "modules.json:   0%|          | 0.00/349 [00:00<?, ?B/s]"
      ]
     },
     "metadata": {},
     "output_type": "display_data"
    },
    {
     "name": "stderr",
     "output_type": "stream",
     "text": [
      "d:\\AI Mastery\\Project\\Intelligent-Complaint-Analysis-for-Financial-Services\\venv\\Lib\\site-packages\\huggingface_hub\\file_download.py:143: UserWarning: `huggingface_hub` cache-system uses symlinks by default to efficiently store duplicated files but your machine does not support them in C:\\Users\\kumsam\\.cache\\huggingface\\hub\\models--sentence-transformers--all-MiniLM-L6-v2. Caching files will still work but in a degraded version that might require more space on your disk. This warning can be disabled by setting the `HF_HUB_DISABLE_SYMLINKS_WARNING` environment variable. For more details, see https://huggingface.co/docs/huggingface_hub/how-to-cache#limitations.\n",
      "To support symlinks on Windows, you either need to activate Developer Mode or to run Python as an administrator. In order to activate developer mode, see this article: https://docs.microsoft.com/en-us/windows/apps/get-started/enable-your-device-for-development\n",
      "  warnings.warn(message)\n"
     ]
    },
    {
     "data": {
      "application/vnd.jupyter.widget-view+json": {
       "model_id": "4b71ecb6e64e4049a6f31308d351e800",
       "version_major": 2,
       "version_minor": 0
      },
      "text/plain": [
       "config_sentence_transformers.json:   0%|          | 0.00/116 [00:00<?, ?B/s]"
      ]
     },
     "metadata": {},
     "output_type": "display_data"
    },
    {
     "data": {
      "application/vnd.jupyter.widget-view+json": {
       "model_id": "4f2d3ea459ae4758bfc0c1727369a0d2",
       "version_major": 2,
       "version_minor": 0
      },
      "text/plain": [
       "README.md: 0.00B [00:00, ?B/s]"
      ]
     },
     "metadata": {},
     "output_type": "display_data"
    },
    {
     "data": {
      "application/vnd.jupyter.widget-view+json": {
       "model_id": "b0705f82c37c4970bfdc371cf5cece10",
       "version_major": 2,
       "version_minor": 0
      },
      "text/plain": [
       "sentence_bert_config.json:   0%|          | 0.00/53.0 [00:00<?, ?B/s]"
      ]
     },
     "metadata": {},
     "output_type": "display_data"
    },
    {
     "data": {
      "application/vnd.jupyter.widget-view+json": {
       "model_id": "72d7ef95ef7448de86a959468aefd69a",
       "version_major": 2,
       "version_minor": 0
      },
      "text/plain": [
       "config.json:   0%|          | 0.00/612 [00:00<?, ?B/s]"
      ]
     },
     "metadata": {},
     "output_type": "display_data"
    },
    {
     "name": "stderr",
     "output_type": "stream",
     "text": [
      "Xet Storage is enabled for this repo, but the 'hf_xet' package is not installed. Falling back to regular HTTP download. For better performance, install the package with: `pip install huggingface_hub[hf_xet]` or `pip install hf_xet`\n"
     ]
    },
    {
     "data": {
      "application/vnd.jupyter.widget-view+json": {
       "model_id": "d996092f5eed40a08f7d6a0aac170939",
       "version_major": 2,
       "version_minor": 0
      },
      "text/plain": [
       "model.safetensors:   0%|          | 0.00/90.9M [00:00<?, ?B/s]"
      ]
     },
     "metadata": {},
     "output_type": "display_data"
    },
    {
     "data": {
      "application/vnd.jupyter.widget-view+json": {
       "model_id": "8cb5f41dcdd44d51b1d2e5fd996df559",
       "version_major": 2,
       "version_minor": 0
      },
      "text/plain": [
       "tokenizer_config.json:   0%|          | 0.00/350 [00:00<?, ?B/s]"
      ]
     },
     "metadata": {},
     "output_type": "display_data"
    },
    {
     "data": {
      "application/vnd.jupyter.widget-view+json": {
       "model_id": "9ce8ec27cce74f4d82ba4752e9fe624e",
       "version_major": 2,
       "version_minor": 0
      },
      "text/plain": [
       "vocab.txt: 0.00B [00:00, ?B/s]"
      ]
     },
     "metadata": {},
     "output_type": "display_data"
    },
    {
     "data": {
      "application/vnd.jupyter.widget-view+json": {
       "model_id": "38993dc963224b49978197d97cf18f14",
       "version_major": 2,
       "version_minor": 0
      },
      "text/plain": [
       "tokenizer.json: 0.00B [00:00, ?B/s]"
      ]
     },
     "metadata": {},
     "output_type": "display_data"
    },
    {
     "data": {
      "application/vnd.jupyter.widget-view+json": {
       "model_id": "a462039b98a043cc8758218de3d8bc0a",
       "version_major": 2,
       "version_minor": 0
      },
      "text/plain": [
       "special_tokens_map.json:   0%|          | 0.00/112 [00:00<?, ?B/s]"
      ]
     },
     "metadata": {},
     "output_type": "display_data"
    },
    {
     "data": {
      "application/vnd.jupyter.widget-view+json": {
       "model_id": "93b27e9834cf49e897f85371cf2fa24b",
       "version_major": 2,
       "version_minor": 0
      },
      "text/plain": [
       "config.json:   0%|          | 0.00/190 [00:00<?, ?B/s]"
      ]
     },
     "metadata": {},
     "output_type": "display_data"
    },
    {
     "data": {
      "application/vnd.jupyter.widget-view+json": {
       "model_id": "a290daf1b7f04c5a84942e1e68d8f7c1",
       "version_major": 2,
       "version_minor": 0
      },
      "text/plain": [
       "Batches:   0%|          | 0/13340 [00:00<?, ?it/s]"
      ]
     },
     "metadata": {},
     "output_type": "display_data"
    }
   ],
   "source": [
    "embedder = Embedder()\n",
    "embeddings = embedder.embed_texts(chunks)"
   ]
  },
  {
   "cell_type": "markdown",
   "id": "7ce92541",
   "metadata": {},
   "source": [
    "# Save to vector store"
   ]
  },
  {
   "cell_type": "code",
   "execution_count": 8,
   "id": "b4f2e79a",
   "metadata": {},
   "outputs": [
    {
     "name": "stdout",
     "output_type": "stream",
     "text": [
      "Vector index and metadata saved.\n"
     ]
    }
   ],
   "source": [
    "store = VectorStoreManager(dim=embeddings.shape[1])\n",
    "store.add_embeddings(embeddings, metadata)\n",
    "store.save()\n",
    "print(\"Vector index and metadata saved.\")"
   ]
  }
 ],
 "metadata": {
  "kernelspec": {
   "display_name": "venv",
   "language": "python",
   "name": "python3"
  },
  "language_info": {
   "codemirror_mode": {
    "name": "ipython",
    "version": 3
   },
   "file_extension": ".py",
   "mimetype": "text/x-python",
   "name": "python",
   "nbconvert_exporter": "python",
   "pygments_lexer": "ipython3",
   "version": "3.12.3"
  }
 },
 "nbformat": 4,
 "nbformat_minor": 5
}
