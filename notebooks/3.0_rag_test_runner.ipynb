{
 "cells": [
  {
   "cell_type": "markdown",
   "id": "65a71ce7",
   "metadata": {},
   "source": [
    "# Change Cache Directory "
   ]
  },
  {
   "cell_type": "code",
   "execution_count": 1,
   "id": "1fc310ba",
   "metadata": {},
   "outputs": [],
   "source": [
    "import os\n",
    "os.environ[\"HF_HOME\"] = \"D:/huggingface\"\n",
    "os.environ[\"HF_HUB_DISABLE_SYMLINKS_WARNING\"] = \"1\"\n"
   ]
  },
  {
   "cell_type": "markdown",
   "id": "fcd0b98c",
   "metadata": {},
   "source": [
    "# Import"
   ]
  },
  {
   "cell_type": "code",
   "execution_count": 2,
   "id": "f2459305",
   "metadata": {},
   "outputs": [],
   "source": [
    "import sys\n",
    "import pandas as pd\n",
    "import warnings\n",
    "warnings.filterwarnings('ignore')"
   ]
  },
  {
   "cell_type": "code",
   "execution_count": 3,
   "id": "1156689f",
   "metadata": {},
   "outputs": [],
   "source": [
    "project_root = os.path.abspath(os.path.join(os.getcwd(), \"../\"))\n",
    "if project_root not in sys.path:\n",
    "    sys.path.append(project_root)\n",
    "\n",
    "from src.rag.retriever import Retriever\n",
    "from src.rag.prompt import PromptBuilder\n",
    "from src.rag.generator import Generator"
   ]
  },
  {
   "cell_type": "markdown",
   "id": "ceff9a75",
   "metadata": {},
   "source": [
    "# Initialize RAG components"
   ]
  },
  {
   "cell_type": "code",
   "execution_count": 4,
   "id": "a9b07d5d",
   "metadata": {},
   "outputs": [
    {
     "name": "stderr",
     "output_type": "stream",
     "text": [
      "Device set to use cpu\n"
     ]
    }
   ],
   "source": [
    "retriever = Retriever()\n",
    "prompt_builder = PromptBuilder()\n",
    "generator = Generator(model_name=\"google/flan-t5-base\") "
   ]
  },
  {
   "cell_type": "markdown",
   "id": "d8612379",
   "metadata": {},
   "source": [
    "# Define evaluation questions"
   ]
  },
  {
   "cell_type": "code",
   "execution_count": 5,
   "id": "c13c0ec7",
   "metadata": {},
   "outputs": [],
   "source": [
    "questions = [\n",
    "    \"How do customers feel about Buy Now Pay Later?\",\n",
    "    \"What are common complaints related to Credit Cards?\",\n",
    "    \"How do customers describe Personal Loan issues?\",\n",
    "    \"What problems are reported about Savings Accounts?\",\n",
    "    \"Are there complaints related to Money Transfers?\",\n",
    "    # Add more as needed, up to 10\n",
    "]"
   ]
  },
  {
   "cell_type": "markdown",
   "id": "4ae955eb",
   "metadata": {},
   "source": [
    "# Prepare list to collect results"
   ]
  },
  {
   "cell_type": "code",
   "execution_count": 15,
   "id": "5afc2d90",
   "metadata": {},
   "outputs": [],
   "source": [
    "results = []\n",
    "\n",
    "for q in questions:\n",
    "    # Retrieve relevant chunks (list of dicts)\n",
    "    chunks = retriever.retrieve(q, top_k=5)\n",
    "    \n",
    "    # Extract the actual complaint text strings for prompt building\n",
    "    context_texts = [chunk['text'] for chunk in chunks]\n",
    "    \n",
    "    # Build prompt with list of strings (complaint texts)\n",
    "    prompt = prompt_builder.build_prompt(context_texts, q)\n",
    "    \n",
    "    # Generate answer\n",
    "    answer = generator.generate_answer(prompt)\n",
    "    \n",
    "    # Format retrieved sources nicely for markdown (using metadata)\n",
    "    sources = \"; \".join(\n",
    "        [f\"{chunk['product']} complaint #{chunk['complaint_id']}\" for chunk in chunks[:2]]\n",
    "    )\n",
    "    \n",
    "    results.append({\n",
    "        \"Question\": q,\n",
    "        \"Generated Answer\": answer,\n",
    "        \"Retrieved Sources\": sources,\n",
    "        \"Quality Score (1-5)\": \"\",  # Manual scoring later\n",
    "        \"Comments/Analysis\": \"\"\n",
    "    })\n"
   ]
  },
  {
   "cell_type": "markdown",
   "id": "d49d3bd6",
   "metadata": {},
   "source": [
    "# Convert to DataFrame for easier export/formatting"
   ]
  },
  {
   "cell_type": "code",
   "execution_count": 16,
   "id": "21d3080f",
   "metadata": {},
   "outputs": [],
   "source": [
    "df_results = pd.DataFrame(results)"
   ]
  },
  {
   "cell_type": "markdown",
   "id": "01a64214",
   "metadata": {},
   "source": [
    "# Save as markdown"
   ]
  },
  {
   "cell_type": "code",
   "execution_count": 17,
   "id": "3b6c1cd9",
   "metadata": {},
   "outputs": [],
   "source": [
    "md_table = df_results.to_markdown(index=False)"
   ]
  },
  {
   "cell_type": "code",
   "execution_count": 19,
   "id": "b9a0e54e",
   "metadata": {},
   "outputs": [
    {
     "name": "stdout",
     "output_type": "stream",
     "text": [
      "Evaluation complete. Results saved to ../reports/evaluation_table.md\n"
     ]
    }
   ],
   "source": [
    "output_path = \"../reports/evaluation_table.md\"  # Your desired file path\n",
    "\n",
    "with open(output_path, \"w\", encoding=\"utf-8\") as f:\n",
    "    f.write(md_table)\n",
    "\n",
    "print(f\"Evaluation complete. Results saved to {output_path}\")\n"
   ]
  },
  {
   "cell_type": "code",
   "execution_count": 20,
   "id": "454601b3",
   "metadata": {},
   "outputs": [
    {
     "name": "stdout",
     "output_type": "stream",
     "text": [
      "| Question                                            | Generated Answer                                                                                                                                                                                                                                                                                                                                                                                                                                                                                                                                                                                                                                                                                                                                                        | Retrieved Sources                                                  | Quality Score (1-5)   | Comments/Analysis   |\n",
      "|:----------------------------------------------------|:------------------------------------------------------------------------------------------------------------------------------------------------------------------------------------------------------------------------------------------------------------------------------------------------------------------------------------------------------------------------------------------------------------------------------------------------------------------------------------------------------------------------------------------------------------------------------------------------------------------------------------------------------------------------------------------------------------------------------------------------------------------------|:-------------------------------------------------------------------|:----------------------|:--------------------|\n",
      "| How do customers feel about Buy Now Pay Later?      | very disappointed                                                                                                                                                                                                                                                                                                                                                                                                                                                                                                                                                                                                                                                                                                                                                       | Credit card complaint #37647; Credit card complaint #75703         |                       |                     |\n",
      "| What are common complaints related to Credit Cards? | i stopped using the cards in xx xx xxxx and you also had over xxxx class action lawsuits similar in nature please bare that in mind as you as i can see hundreds of online complaints from card users the card this is terriable and this is not right and i am wanting to do a formal complaint with these credit card practices can you please assist best xxxx xxxx xxxx credit card agreement usaas responses not only contradict their own policies but also suggest a pattern of behavior that may mislead other consumers my experience reflects significant procedural flaws that have led to undue financial stress and to spend the time to make this complaint to let you and the public know the sheer incompetence of the bank of america credit card team | Credit card complaint #45128; Credit card complaint #16045         |                       |                     |\n",
      "| How do customers describe Personal Loan issues?     | opacity in offering what is essentially a loan isn't above board                                                                                                                                                                                                                                                                                                                                                                                                                                                                                                                                                                                                                                                                                                        | Credit card complaint #45891; Credit card complaint #33351         |                       |                     |\n",
      "| What problems are reported about Savings Accounts?  | unprofessionally handled every account they have double                                                                                                                                                                                                                                                                                                                                                                                                                                                                                                                                                                                                                                                                                                                 | Credit card complaint #68901; Credit card complaint #72040         |                       |                     |\n",
      "| Are there complaints related to Money Transfers?    | yes                                                                                                                                                                                                                                                                                                                                                                                                                                                                                                                                                                                                                                                                                                                                                                     | Money transfers complaint #49519; Money transfers complaint #50285 |                       |                     |\n"
     ]
    }
   ],
   "source": [
    "print(md_table)"
   ]
  }
 ],
 "metadata": {
  "kernelspec": {
   "display_name": "venv",
   "language": "python",
   "name": "python3"
  },
  "language_info": {
   "codemirror_mode": {
    "name": "ipython",
    "version": 3
   },
   "file_extension": ".py",
   "mimetype": "text/x-python",
   "name": "python",
   "nbconvert_exporter": "python",
   "pygments_lexer": "ipython3",
   "version": "3.12.3"
  }
 },
 "nbformat": 4,
 "nbformat_minor": 5
}
